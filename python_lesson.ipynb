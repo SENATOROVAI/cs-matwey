{
 "cells": [
  {
   "cell_type": "code",
   "execution_count": null,
   "metadata": {},
   "outputs": [],
   "source": [
    "\"\"\"Cpython.\"\"\""
   ]
  },
  {
   "cell_type": "markdown",
   "metadata": {},
   "source": [
    "1. Я исползую эталонную реалицаю python: Cpython\n",
    "2. В github есть интопретатор Cpython\n",
    "https://github.com/python/cpython\n",
    "3. Python вызывает инструкции C и"
   ]
  }
 ],
 "metadata": {
  "language_info": {
   "name": "python"
  }
 },
 "nbformat": 4,
 "nbformat_minor": 2
}
